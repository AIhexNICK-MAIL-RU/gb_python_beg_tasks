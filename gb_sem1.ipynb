{
  "nbformat": 4,
  "nbformat_minor": 0,
  "metadata": {
    "colab": {
      "provenance": [],
      "authorship_tag": "ABX9TyMvSecJ8OIb26Ag5EfojJMS",
      "include_colab_link": true
    },
    "kernelspec": {
      "name": "python3",
      "display_name": "Python 3"
    },
    "language_info": {
      "name": "python"
    }
  },
  "cells": [
    {
      "cell_type": "markdown",
      "metadata": {
        "id": "view-in-github",
        "colab_type": "text"
      },
      "source": [
        "<a href=\"https://colab.research.google.com/github/AIhexNICK-MAIL-RU/gb_python_beg_tasks/blob/main/gb_sem1.ipynb\" target=\"_parent\"><img src=\"https://colab.research.google.com/assets/colab-badge.svg\" alt=\"Open In Colab\"/></a>"
      ]
    },
    {
      "cell_type": "code",
      "execution_count": null,
      "metadata": {
        "id": "BM_tJBeMm0-C"
      },
      "outputs": [],
      "source": []
    },
    {
      "cell_type": "markdown",
      "source": [
        "## 0 задача\n",
        "\n",
        "Весь ноутбук оформляйте с заголовками и текстами:\n",
        "\n",
        "```\n",
        "    code\n",
        "```\n",
        "\n",
        "- Номер задачи - заголовок 2\n",
        "- Номер подзадачи - заголовок 3\n",
        "- Предоставленные наборы данных оформляйте, как код\n"
      ],
      "metadata": {
        "id": "Kdrc5kXHnnJ1"
      }
    },
    {
      "cell_type": "markdown",
      "source": [
        "### 1.1 Соедините два словаря в один\n",
        "\n",
        "```\n",
        "dict1 = {'One': 1, 'Two': 2, 'Three': 3}\n",
        "dict2 = {'Four': 4, 'Five': 5, 'Six': 6}"
      ],
      "metadata": {
        "id": "8xUy6WVnoML-"
      }
    },
    {
      "cell_type": "code",
      "source": [
        "dict1 = {'One': 1, 'Two': 2, 'Three': 3}\n",
        "dict2 = {'Four': 4, 'Five': 5, 'Six': 6}"
      ],
      "metadata": {
        "id": "fwTRzdWxoi1G"
      },
      "execution_count": null,
      "outputs": []
    },
    {
      "cell_type": "code",
      "source": [
        "dict1.update(dict2)\n",
        "dict1"
      ],
      "metadata": {
        "colab": {
          "base_uri": "https://localhost:8080/"
        },
        "id": "__AB4iDPoY42",
        "outputId": "03de1f75-2f57-4d28-a2bd-e4359fa27361"
      },
      "execution_count": null,
      "outputs": [
        {
          "output_type": "execute_result",
          "data": {
            "text/plain": [
              "{'One': 1, 'Two': 2, 'Three': 3, 'Four': 4, 'Five': 5, 'Six': 6}"
            ]
          },
          "metadata": {},
          "execution_count": 3
        }
      ]
    },
    {
      "cell_type": "markdown",
      "source": [
        "# 1.2 Напишите функцию, которая на вход принимает два словаря и возвращает один объединенный словарь\n",
        "Используйте аннотирование типов\n"
      ],
      "metadata": {
        "id": "Dl3K4KeXosuv"
      }
    },
    {
      "cell_type": "code",
      "source": [
        "def merge_dict(dict1: dict, dict2: dict) -> dict:\n",
        "    dict1.update(dict2)\n",
        "    return dict1\n",
        "\n",
        "merge_dict(dict1, dict2)"
      ],
      "metadata": {
        "colab": {
          "base_uri": "https://localhost:8080/"
        },
        "id": "2TRw951VoutC",
        "outputId": "c7bbce0a-64f4-4c49-ee51-2c29a163404b"
      },
      "execution_count": null,
      "outputs": [
        {
          "output_type": "execute_result",
          "data": {
            "text/plain": [
              "{'One': 1, 'Two': 2, 'Three': 3, 'Four': 4, 'Five': 5, 'Six': 6}"
            ]
          },
          "metadata": {},
          "execution_count": 4
        }
      ]
    },
    {
      "cell_type": "markdown",
      "source": [
        "# 2 задача\n",
        "Напишите функцию, которая из двух списков, делает один словарь, где элементы из первого списка - ключи, а элементы из второго списка - значения\n",
        "\n",
        "keys = ['One', 'Two', 'Three']\n",
        "values = [1, 2, 3]"
      ],
      "metadata": {
        "id": "aWbBVoBwqUPf"
      }
    },
    {
      "cell_type": "code",
      "source": [
        "keys = ['One', 'Two', 'Three']\n",
        "values = [1, 2, 3]"
      ],
      "metadata": {
        "id": "4RlvGICeqVPN"
      },
      "execution_count": null,
      "outputs": []
    },
    {
      "cell_type": "markdown",
      "source": [
        "## 2.1 через цикл for"
      ],
      "metadata": {
        "id": "b438-Levs5aL"
      }
    },
    {
      "cell_type": "code",
      "source": [
        "def get_dict(keys: list, values: list) -> dict:\n",
        "  res_dict = {}\n",
        "  for i in range(len(keys)):\n",
        "    res_dict.update({keys[i]: values[i]})\n",
        "  return res_dict\n",
        "\n",
        "get_dict(keys, values)"
      ],
      "metadata": {
        "colab": {
          "base_uri": "https://localhost:8080/"
        },
        "id": "LXh82ZApqcC_",
        "outputId": "e64bf9be-e130-436c-fd93-135680790b2d"
      },
      "execution_count": null,
      "outputs": [
        {
          "output_type": "execute_result",
          "data": {
            "text/plain": [
              "{'One': 1, 'Two': 2, 'Three': 3}"
            ]
          },
          "metadata": {},
          "execution_count": 6
        }
      ]
    },
    {
      "cell_type": "markdown",
      "source": [
        "##2.2 dict comprehensions - работает быстрее чем через цикл for"
      ],
      "metadata": {
        "id": "spHDt_Lmr4vt"
      }
    },
    {
      "cell_type": "code",
      "source": [
        "def get_dict(keys: list, values: list) -> dict:\n",
        "  return {keys[i]: values[i] for i in range(len(values))}\n",
        "\n",
        "get_dict(keys, values)"
      ],
      "metadata": {
        "colab": {
          "base_uri": "https://localhost:8080/"
        },
        "id": "G7QwKtIbr8lr",
        "outputId": "c6cdd032-d295-4a3a-b55e-a19436642b27"
      },
      "execution_count": null,
      "outputs": [
        {
          "output_type": "execute_result",
          "data": {
            "text/plain": [
              "{'One': 1, 'Two': 2, 'Three': 3}"
            ]
          },
          "metadata": {},
          "execution_count": 7
        }
      ]
    },
    {
      "cell_type": "markdown",
      "source": [
        "# 3.1 задание\n",
        "\n",
        "Извлеките только два ключа name и age из представленного словаря\n",
        "\n",
        "![Picture1.png](data:image/png;base64,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)\n",
        "\n",
        "Функция на вход принимает:\n",
        "исходный словарь\n",
        "ключи, которые нужно извлечь (аргумент по умолчанию)\n",
        "На выходе словарь с нужными ключами\n",
        "Используйте аннотирование типов\n"
      ],
      "metadata": {
        "id": "Z5j3erIFs-3j"
      }
    },
    {
      "cell_type": "code",
      "source": [
        "client_dict = {\n",
        "    \"name\": \"John\",\n",
        "    \"age\": 25,\n",
        "    \"salary\": 5000,\n",
        "    \"city\": \"Moscow\"\n",
        "}\n",
        "\n",
        "keys = ['name', 'age']"
      ],
      "metadata": {
        "id": "R10EmKVOtIM6"
      },
      "execution_count": null,
      "outputs": []
    },
    {
      "cell_type": "code",
      "source": [
        "def get_keys_from_dict(base_dict: dict, keys: list=['name', 'age']) -> dict:\n",
        "  res = {}\n",
        "  for k in keys:\n",
        "    res.update({k: base_dict[k]})\n",
        "  return res\n",
        "\n",
        "get_keys_from_dict(client_dict)"
      ],
      "metadata": {
        "colab": {
          "base_uri": "https://localhost:8080/"
        },
        "id": "SeuxiLz5tMh6",
        "outputId": "4f42dfbc-801f-43fe-b376-2cce280ff8a8"
      },
      "execution_count": null,
      "outputs": [
        {
          "output_type": "execute_result",
          "data": {
            "text/plain": [
              "{'name': 'John', 'age': 25}"
            ]
          },
          "metadata": {},
          "execution_count": 9
        }
      ]
    },
    {
      "cell_type": "markdown",
      "source": [
        "# 3.2 dict comprehensions"
      ],
      "metadata": {
        "id": "VV1IevU0uQ6_"
      }
    },
    {
      "cell_type": "code",
      "source": [
        "new_dict = {i: client_dict[i] for i in keys}\n",
        "new_dict"
      ],
      "metadata": {
        "colab": {
          "base_uri": "https://localhost:8080/"
        },
        "id": "D_scnz2iuU6T",
        "outputId": "f97c096a-abe4-4956-ede7-ebf59f9fa876"
      },
      "execution_count": null,
      "outputs": [
        {
          "output_type": "execute_result",
          "data": {
            "text/plain": [
              "{'name': 'John', 'age': 25}"
            ]
          },
          "metadata": {},
          "execution_count": 10
        }
      ]
    },
    {
      "cell_type": "markdown",
      "source": [
        "# 5.1 Найдите картинку и прикрепите ее в ячейку с текстом"
      ],
      "metadata": {
        "id": "-WlnJyx9vL2E"
      }
    },
    {
      "cell_type": "markdown",
      "source": [
        "<img src='https://cdn.playcaliber.com/site/media/news/2021/06/01/4-%D0%A2%D0%B0%D0%B1%D0%BB%D0%B8%D1%86%D0%B0-%D0%BC%D0%B0%D0%BB%D0%B5%D0%BD%D1%8C%D0%BA%D0%B0%D1%8F-%D0%BF%D0%BE-%D1%80%D0%B5%D0%B6%D0%B8%D0%BC%D0%B0%D0%BC-1280%D1%85853.jpg' width=500>"
      ],
      "metadata": {
        "id": "djKCYDZev4Xm"
      }
    },
    {
      "cell_type": "markdown",
      "source": [
        "# 5.2 Создайте талбицу в ячейке с текстом"
      ],
      "metadata": {
        "id": "xpQS0kAsvjPV"
      }
    },
    {
      "cell_type": "code",
      "source": [],
      "metadata": {
        "id": "GRmQlJHJwgYD"
      },
      "execution_count": null,
      "outputs": []
    },
    {
      "cell_type": "markdown",
      "source": [
        "<table>\n",
        "    <tr>\n",
        "        <td> </td>\n",
        "        <td>До события</td>\n",
        "        <td>Во время события</td>\n",
        "    </tr>\n",
        "    <tr>\n",
        "        <td>1 контрольная точка</td>\n",
        "        <td>250</td>\n",
        "        <td>500</td>\n",
        "    </tr>\n",
        "    <tr>\n",
        "        <td>2 контрольная точка</td>\n",
        "        <td>350</td>\n",
        "        <td>700</td>\n",
        "    </tr>\n",
        "    <tr>\n",
        "        <td>3 контрольная точка</td>\n",
        "        <td>400</td>\n",
        "        <td>800</td>\n",
        "    </tr>\n",
        "    <tr>\n",
        "        <td>итог за победу</td>\n",
        "        <td>1000</td>\n",
        "        <td>2000</td>\n",
        "    </tr>\n",
        "</table>"
      ],
      "metadata": {
        "id": "mpRYx4j5wg9c"
      }
    },
    {
      "cell_type": "markdown",
      "source": [
        "# 6 задача"
      ],
      "metadata": {
        "id": "gEXSMafuwzbF"
      }
    },
    {
      "cell_type": "markdown",
      "source": [
        "Напишите функцию, которая может принимать любое количество трат пользователя и считать сумму и среднее.\n",
        "\n",
        "* На вход поступают целочисленные значения в любом количестве\n",
        "* На выходе словарь с ключами суммы трат и средней траты"
      ],
      "metadata": {
        "id": "lTahDPOByDSu"
      }
    },
    {
      "cell_type": "code",
      "source": [
        "def calc(*args):\n",
        "  return {'sum': sum(args),\n",
        "          'avg': sum(args) / len(args)}\n",
        "\n",
        "calc(1, 2, 3, 4, 5, 6, 7, 8, 9, 10)"
      ],
      "metadata": {
        "colab": {
          "base_uri": "https://localhost:8080/"
        },
        "id": "6QPj75IMw3Zn",
        "outputId": "669607a3-b2e5-4275-a327-e799abf20d27"
      },
      "execution_count": null,
      "outputs": [
        {
          "output_type": "execute_result",
          "data": {
            "text/plain": [
              "{'sum': 55, 'avg': 5.5}"
            ]
          },
          "metadata": {},
          "execution_count": 13
        }
      ]
    },
    {
      "cell_type": "markdown",
      "source": [
        "# 4 задача"
      ],
      "metadata": {
        "id": "N1lMWWDXyjwg"
      }
    },
    {
      "cell_type": "markdown",
      "source": [
        "## 4.1 Сгенерируйте случайные целые числа от 0 до 100 в количестве 5 штук с помощью модуля random\n",
        "* Зафиксируйте псевдогенерацию, чтобы сгенерированные значения всегда были одинаковые\n",
        "* Используйте list comprehensions"
      ],
      "metadata": {
        "id": "OjUINHuIymi8"
      }
    },
    {
      "cell_type": "code",
      "source": [
        "import random\n",
        "random.seed(6)\n",
        "\n",
        "num = [random.randint(0, 100) for i in range(5)]\n",
        "num"
      ],
      "metadata": {
        "colab": {
          "base_uri": "https://localhost:8080/"
        },
        "id": "xvF4En30yqL5",
        "outputId": "f64958e9-22dd-4a9f-e03b-a67371639a8d"
      },
      "execution_count": null,
      "outputs": [
        {
          "output_type": "execute_result",
          "data": {
            "text/plain": [
              "[73, 10, 62, 97, 33]"
            ]
          },
          "metadata": {},
          "execution_count": 15
        }
      ]
    },
    {
      "cell_type": "markdown",
      "source": [
        "## 4.2* Генератор на вход принимает список с данными о клиенте (данные из пункта 4.1)\n",
        "Напишите генератор\n",
        "* Внутри генератора реализуйте обход по списку с данными\n",
        "* На каждой итерации генератор будет возвращать кортеж из двух элементов:\n",
        "\n",
        "* данные по клиенту (в зависимости от итерации, на 0 итерации вернется 0 элемент, на 1 итерации вернется 1 элемент и тд)\n",
        "* целочисленное значение, которое показывает, сколько секунд прошло с предыдущей итерации\n",
        "\n",
        "Примечание: секунды, которые возвращаются должны показывать время не с начала запуска генератора, а именно то время, которое прошло с предыдущей итерации. А значит время на первой итерации должно равняться 0.\n",
        "\n",
        "Используйте функцию time из модуля time для подсчета времени.\n",
        "Чтобы проверить работу таймера, запустите проход по генератору в цикле с time.sleep(2)"
      ],
      "metadata": {
        "id": "bFNL9iBZzTKU"
      }
    },
    {
      "cell_type": "code",
      "source": [
        "import time\n",
        "\n",
        "def elapsed_since(data):\n",
        "  last_time = None\n",
        "\n",
        "  for i in data:\n",
        "    current_time = time.time()\n",
        "    if last_time:\n",
        "      delta = current_time - last_time\n",
        "    else:\n",
        "      delta = current_time - current_time\n",
        "\n",
        "    last_time = time.time()\n",
        "    yield (int(delta), i)\n"
      ],
      "metadata": {
        "id": "5QFJfXMBzWQN"
      },
      "execution_count": null,
      "outputs": []
    },
    {
      "cell_type": "code",
      "source": [
        "for i in elapsed_since(num):\n",
        "  print(i)\n",
        "  time.sleep(2)"
      ],
      "metadata": {
        "colab": {
          "base_uri": "https://localhost:8080/"
        },
        "id": "NGGfMN1N0Ywf",
        "outputId": "f2815b48-8128-4cd2-a871-816ae71b448f"
      },
      "execution_count": null,
      "outputs": [
        {
          "output_type": "stream",
          "name": "stdout",
          "text": [
            "(0, 73)\n",
            "(2, 10)\n",
            "(2, 62)\n",
            "(2, 97)\n",
            "(2, 33)\n"
          ]
        }
      ]
    }
  ]
}