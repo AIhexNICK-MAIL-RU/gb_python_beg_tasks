{
  "nbformat": 4,
  "nbformat_minor": 0,
  "metadata": {
    "colab": {
      "provenance": [],
      "authorship_tag": "ABX9TyPd/BaqCxrhEw9f3xRyQXrd",
      "include_colab_link": true
    },
    "kernelspec": {
      "name": "python3",
      "display_name": "Python 3"
    },
    "language_info": {
      "name": "python"
    }
  },
  "cells": [
    {
      "cell_type": "markdown",
      "metadata": {
        "id": "view-in-github",
        "colab_type": "text"
      },
      "source": [
        "<a href=\"https://colab.research.google.com/github/AIhexNICK-MAIL-RU/gb_python_beg_tasks/blob/main/gb_python_beg_hw1.ipynb\" target=\"_parent\"><img src=\"https://colab.research.google.com/assets/colab-badge.svg\" alt=\"Open In Colab\"/></a>"
      ]
    },
    {
      "cell_type": "markdown",
      "source": [
        "# Условие 1:\n",
        "Оформляйте ноутбук, используя эти советы:\n",
        "\n",
        "Номер задачи - заголовок 2\n",
        "\n",
        "Номер подзадачи - заголовок 3\n",
        "\n",
        "Предоставленные наборы данных оформляйте, как код\n",
        "\n",
        "Рекомендации для преподавателей по оценке задания:\n",
        "\n",
        "Смотреть, чтобы студент красиво оформлял ноутбук, использовал ячейки с текстом, указывал номера заданий\n"
      ],
      "metadata": {
        "id": "S4rE-Af9F-zg"
      }
    },
    {
      "cell_type": "markdown",
      "source": [
        "# Условие 2 (?):\n",
        "На складе лежат разные фрукты в разном количестве.\n",
        "Нужно написать функцию, которая на вход принимает любое количество названий фруктов и их количество, а возвращает общее количество фруктов на складе\n"
      ],
      "metadata": {
        "id": "4m2wzSxoGH3z"
      }
    },
    {
      "cell_type": "code",
      "source": [
        "fruits = {'banana': 24,\n",
        "          'mango': 14,\n",
        "          'orange': 30}\n",
        "#counts = {24, 14, 30}"
      ],
      "metadata": {
        "id": "WWql9bWJBv5H"
      },
      "execution_count": 6,
      "outputs": []
    },
    {
      "cell_type": "code",
      "source": [
        "import collections"
      ],
      "metadata": {
        "id": "5R4YbO0oINh7"
      },
      "execution_count": 41,
      "outputs": []
    },
    {
      "cell_type": "code",
      "source": [
        "def get_sum_f():\n",
        "  sum(fruits.values())\n",
        "  return\n",
        "\n",
        "print(get_sum_f)"
      ],
      "metadata": {
        "colab": {
          "base_uri": "https://localhost:8080/"
        },
        "id": "LeQIAXNXCbJ_",
        "outputId": "c0bfd3d9-f2af-4ea1-b760-fb282e6df44f"
      },
      "execution_count": 4,
      "outputs": [
        {
          "output_type": "stream",
          "name": "stdout",
          "text": [
            "<function get_sum_f at 0x7f25ca2dc3a0>\n"
          ]
        }
      ]
    },
    {
      "cell_type": "code",
      "source": [
        "fruits = {'banana', 'mango', 'orange'}\n",
        "counts = {24, 14, 30}"
      ],
      "metadata": {
        "id": "prjXwe5aVcG3"
      },
      "execution_count": 7,
      "outputs": []
    },
    {
      "cell_type": "code",
      "source": [
        "def get_fruits(fruits: list, counts: list) -> dict:\n",
        "  res_dict = {}\n",
        "  for i in range(len(fruits)):\n",
        "    res_dict.update({fruits[i]: counts[i]})\n",
        "  return res_dict\n",
        "\n",
        "get_fruits(fruits, counts)"
      ],
      "metadata": {
        "colab": {
          "base_uri": "https://localhost:8080/",
          "height": 329
        },
        "id": "skQpWOSEVdKZ",
        "outputId": "80b6273d-14b5-4e1c-ea64-81b1b83af54c"
      },
      "execution_count": 12,
      "outputs": [
        {
          "output_type": "error",
          "ename": "TypeError",
          "evalue": "ignored",
          "traceback": [
            "\u001b[0;31m---------------------------------------------------------------------------\u001b[0m",
            "\u001b[0;31mTypeError\u001b[0m                                 Traceback (most recent call last)",
            "\u001b[0;32m<ipython-input-12-f5528173be58>\u001b[0m in \u001b[0;36m<cell line: 7>\u001b[0;34m()\u001b[0m\n\u001b[1;32m      5\u001b[0m   \u001b[0;32mreturn\u001b[0m \u001b[0mres_dict\u001b[0m\u001b[0;34m\u001b[0m\u001b[0;34m\u001b[0m\u001b[0m\n\u001b[1;32m      6\u001b[0m \u001b[0;34m\u001b[0m\u001b[0m\n\u001b[0;32m----> 7\u001b[0;31m \u001b[0mget_fruits\u001b[0m\u001b[0;34m(\u001b[0m\u001b[0mfruits\u001b[0m\u001b[0;34m,\u001b[0m \u001b[0mcounts\u001b[0m\u001b[0;34m)\u001b[0m\u001b[0;34m\u001b[0m\u001b[0;34m\u001b[0m\u001b[0m\n\u001b[0m",
            "\u001b[0;32m<ipython-input-12-f5528173be58>\u001b[0m in \u001b[0;36mget_fruits\u001b[0;34m(fruits, counts)\u001b[0m\n\u001b[1;32m      2\u001b[0m   \u001b[0mres_dict\u001b[0m \u001b[0;34m=\u001b[0m \u001b[0;34m{\u001b[0m\u001b[0;34m}\u001b[0m\u001b[0;34m\u001b[0m\u001b[0;34m\u001b[0m\u001b[0m\n\u001b[1;32m      3\u001b[0m   \u001b[0;32mfor\u001b[0m \u001b[0mi\u001b[0m \u001b[0;32min\u001b[0m \u001b[0mrange\u001b[0m\u001b[0;34m(\u001b[0m\u001b[0mlen\u001b[0m\u001b[0;34m(\u001b[0m\u001b[0mfruits\u001b[0m\u001b[0;34m)\u001b[0m\u001b[0;34m)\u001b[0m\u001b[0;34m:\u001b[0m\u001b[0;34m\u001b[0m\u001b[0;34m\u001b[0m\u001b[0m\n\u001b[0;32m----> 4\u001b[0;31m     \u001b[0mres_dict\u001b[0m\u001b[0;34m.\u001b[0m\u001b[0mupdate\u001b[0m\u001b[0;34m(\u001b[0m\u001b[0;34m{\u001b[0m\u001b[0mfruits\u001b[0m\u001b[0;34m[\u001b[0m\u001b[0mi\u001b[0m\u001b[0;34m]\u001b[0m\u001b[0;34m:\u001b[0m \u001b[0mcounts\u001b[0m\u001b[0;34m[\u001b[0m\u001b[0mi\u001b[0m\u001b[0;34m]\u001b[0m\u001b[0;34m}\u001b[0m\u001b[0;34m)\u001b[0m\u001b[0;34m\u001b[0m\u001b[0;34m\u001b[0m\u001b[0m\n\u001b[0m\u001b[1;32m      5\u001b[0m   \u001b[0;32mreturn\u001b[0m \u001b[0mres_dict\u001b[0m\u001b[0;34m\u001b[0m\u001b[0;34m\u001b[0m\u001b[0m\n\u001b[1;32m      6\u001b[0m \u001b[0;34m\u001b[0m\u001b[0m\n",
            "\u001b[0;31mTypeError\u001b[0m: 'set' object is not subscriptable"
          ]
        }
      ]
    },
    {
      "cell_type": "code",
      "source": [
        "def sum_fruit(fruits: list, counts: list) -> dict:\n",
        "  for i in range(len(fruits)):\n",
        "      res_dict.update({'sum': counts[i]})\n",
        "      return res_dict\n",
        "  return {}\n",
        "      #'sum': sum(counts)\n",
        "\n",
        "sum_fruit"
      ],
      "metadata": {
        "colab": {
          "base_uri": "https://localhost:8080/"
        },
        "id": "1QtZWudLx0I2",
        "outputId": "f0c8e04b-540c-4138-991a-9f58df45ca18"
      },
      "execution_count": 8,
      "outputs": [
        {
          "output_type": "execute_result",
          "data": {
            "text/plain": [
              "<function __main__.sum_fruit(fruits: list, counts: list) -> dict>"
            ]
          },
          "metadata": {},
          "execution_count": 8
        }
      ]
    },
    {
      "cell_type": "code",
      "source": [
        "get_fruits.get('key')"
      ],
      "metadata": {
        "colab": {
          "base_uri": "https://localhost:8080/",
          "height": 169
        },
        "id": "etUNqaK6ALcu",
        "outputId": "0ec8e282-e9e8-4df5-bf65-7edb08fd646d"
      },
      "execution_count": 22,
      "outputs": [
        {
          "output_type": "error",
          "ename": "AttributeError",
          "evalue": "ignored",
          "traceback": [
            "\u001b[0;31m---------------------------------------------------------------------------\u001b[0m",
            "\u001b[0;31mAttributeError\u001b[0m                            Traceback (most recent call last)",
            "\u001b[0;32m<ipython-input-22-caadc9e55b01>\u001b[0m in \u001b[0;36m<cell line: 1>\u001b[0;34m()\u001b[0m\n\u001b[0;32m----> 1\u001b[0;31m \u001b[0mget_fruits\u001b[0m\u001b[0;34m.\u001b[0m\u001b[0mget\u001b[0m\u001b[0;34m(\u001b[0m\u001b[0;34m'key'\u001b[0m\u001b[0;34m)\u001b[0m\u001b[0;34m\u001b[0m\u001b[0;34m\u001b[0m\u001b[0m\n\u001b[0m",
            "\u001b[0;31mAttributeError\u001b[0m: 'function' object has no attribute 'get'"
          ]
        }
      ]
    },
    {
      "cell_type": "code",
      "source": [
        "sum_fruits = sum(get_fruits.values())"
      ],
      "metadata": {
        "colab": {
          "base_uri": "https://localhost:8080/",
          "height": 169
        },
        "id": "uk5lHNAW_oXm",
        "outputId": "5e8a4f90-6e81-4329-812b-a08ce4c42f1c"
      },
      "execution_count": 20,
      "outputs": [
        {
          "output_type": "error",
          "ename": "AttributeError",
          "evalue": "ignored",
          "traceback": [
            "\u001b[0;31m---------------------------------------------------------------------------\u001b[0m",
            "\u001b[0;31mAttributeError\u001b[0m                            Traceback (most recent call last)",
            "\u001b[0;32m<ipython-input-20-f4ac8e0a0784>\u001b[0m in \u001b[0;36m<cell line: 1>\u001b[0;34m()\u001b[0m\n\u001b[0;32m----> 1\u001b[0;31m \u001b[0msum_fruits\u001b[0m \u001b[0;34m=\u001b[0m \u001b[0msum\u001b[0m\u001b[0;34m(\u001b[0m\u001b[0mget_fruits\u001b[0m\u001b[0;34m.\u001b[0m\u001b[0mvalues\u001b[0m\u001b[0;34m(\u001b[0m\u001b[0;34m)\u001b[0m\u001b[0;34m)\u001b[0m\u001b[0;34m\u001b[0m\u001b[0;34m\u001b[0m\u001b[0m\n\u001b[0m",
            "\u001b[0;31mAttributeError\u001b[0m: 'function' object has no attribute 'values'"
          ]
        }
      ]
    },
    {
      "cell_type": "code",
      "source": [
        "get_sum = sum(counts)\n",
        "print(get_sum)"
      ],
      "metadata": {
        "colab": {
          "base_uri": "https://localhost:8080/"
        },
        "id": "vL7-E8PYZkVg",
        "outputId": "fe6684c3-ef9e-47d3-d130-c65ddfa9be56"
      },
      "execution_count": 13,
      "outputs": [
        {
          "output_type": "stream",
          "name": "stdout",
          "text": [
            "68\n"
          ]
        }
      ]
    },
    {
      "cell_type": "code",
      "source": [],
      "metadata": {
        "id": "VkXVhcmbx0HC"
      },
      "execution_count": null,
      "outputs": []
    },
    {
      "cell_type": "code",
      "source": [
        "def get_sum_fruits():\n",
        "  res = {}\n",
        "  for i in range(get_fruits):\n",
        "    sum(counts)\n",
        "  return res\n",
        "\n",
        "get_sum_fruits"
      ],
      "metadata": {
        "colab": {
          "base_uri": "https://localhost:8080/"
        },
        "id": "tEKs-olkWR-0",
        "outputId": "7a546360-e152-47d9-d4a1-9daccecec499"
      },
      "execution_count": 7,
      "outputs": [
        {
          "output_type": "execute_result",
          "data": {
            "text/plain": [
              "<function __main__.get_sum_fruits()>"
            ]
          },
          "metadata": {},
          "execution_count": 7
        }
      ]
    },
    {
      "cell_type": "code",
      "source": [
        "fruit_dict = {\n",
        "    \"banana\": 24,\n",
        "    \"mango\": 14,\n",
        "    \"orange\": 30\n",
        "}\n",
        "\n",
        "\n",
        "\n",
        "def fruit_count():\n",
        "  res = {}\n",
        "  for i in range(len)"
      ],
      "metadata": {
        "id": "aRqsmA0uT3W-"
      },
      "execution_count": null,
      "outputs": []
    },
    {
      "cell_type": "code",
      "source": [
        "import random\n",
        "\n",
        "n = 0\n",
        "fruit_dict = {\n",
        "    \"fruit + (n + 1)\": \"{random.randint(0, 100)}\"\n",
        "}\n",
        "\n",
        "def count_fruits()\n",
        "\n",
        "def fruits(base_fruit: dict, keys) -> dict:\n"
      ],
      "metadata": {
        "id": "d_IEXY1jGHks"
      },
      "execution_count": null,
      "outputs": []
    },
    {
      "cell_type": "code",
      "source": [
        "import random\n",
        "\n",
        "n = 0\n",
        "fruit_dict = {\n",
        "    \"fruit + (n + 1)\": \"{random.randint(0, 100) for i in range(5)}\"\n",
        "}\n",
        "fruit_dict"
      ],
      "metadata": {
        "colab": {
          "base_uri": "https://localhost:8080/"
        },
        "id": "WEyi_Pj4RgOd",
        "outputId": "de075057-72f9-4c14-8c62-8b01095a1b0f"
      },
      "execution_count": 3,
      "outputs": [
        {
          "output_type": "execute_result",
          "data": {
            "text/plain": [
              "{'fruit + (n + 1)': '{random.randint(0, 100) for i in range(5)}'}"
            ]
          },
          "metadata": {},
          "execution_count": 3
        }
      ]
    },
    {
      "cell_type": "code",
      "source": [
        "def count_fruit(*args):\n",
        "  return {'sum': sum(args),\n",
        "          'avg': sum(args) / len(args)}\n",
        "\n",
        "calc(1, 2, 3, 4, 5, 6, 7, 8, 9, 10)"
      ],
      "metadata": {
        "id": "nCXSVVS3GIZh"
      },
      "execution_count": null,
      "outputs": []
    },
    {
      "cell_type": "markdown",
      "source": [
        "# Условие 3:\n",
        "Дан список с затратами на рекламу. Но в данных есть ошибки, некоторые затраты имеют отрицательную величину. Удалите такие значения из списка и посчитайте суммарные затраты\n",
        "[100, 125, -90, 345, 655, -1, 0, 200]\n",
        "Используйте list comprehensions\n"
      ],
      "metadata": {
        "id": "fujBFPayGIuC"
      }
    },
    {
      "cell_type": "code",
      "source": [
        "list1 = [100, 125, -90, 345, 655, -1, 0, 200]"
      ],
      "metadata": {
        "id": "AZPt-CqiGJKK"
      },
      "execution_count": null,
      "outputs": []
    },
    {
      "cell_type": "code",
      "source": [
        "res = 0\n",
        "def get_rek():\n",
        "\n",
        "  res_list = []\n",
        "  for i in range(len(list1)):\n",
        "    if list1[i] > 0:\n",
        "      res_list.add(i)\n",
        "    res += res_list[i]\n",
        "\n",
        "print(res)"
      ],
      "metadata": {
        "colab": {
          "base_uri": "https://localhost:8080/"
        },
        "id": "3kttYdI0Btd8",
        "outputId": "e31ffd2d-b344-4a8a-e126-204c4030a452"
      },
      "execution_count": 5,
      "outputs": [
        {
          "output_type": "stream",
          "name": "stdout",
          "text": [
            "0\n"
          ]
        }
      ]
    },
    {
      "cell_type": "code",
      "source": [
        "def get_pay(list1: list) -> dict:\n",
        "  return {keys[i]: values[i] for i in range(len(values))}\n",
        "\n",
        "get_dict(keys, values)"
      ],
      "metadata": {
        "id": "iJu-G4np-pZX"
      },
      "execution_count": null,
      "outputs": []
    },
    {
      "cell_type": "markdown",
      "source": [
        "# Условие 4.1:\n",
        "Даны два списка.\n",
        "Дата покупки\n",
        "['2021-09-14', '2021-12-15', '2021-09-08', '2021-12-05', '2021-10-09', '2021-09-30', '2021-12-22', '2021-11-29', '2021-12-24', '2021-11-26', '2021-10-27', '2021-12-18', '2021-11-09', '2021-11-23', '2021-09-27', '2021-10-02', '2021-12-27', '2021-09-20', '2021-12-13', '2021-11-01', '2021-11-09', '2021-12-06', '2021-12-08', '2021-10-09', '2021-10-31', '2021-09-30', '2021-11-09', '2021-12-13', '2021-10-26', '2021-12-09']\n",
        "Суммы покупок по датам\n",
        "[1270, 8413, 9028, 3703, 5739, 4095, 295, 4944, 5723, 3701, 4471, 651, 7037, 4274, 6275, 4988, 6930, 2971, 6592, 2004, 2822, 519, 3406, 2732, 5015, 2008, 316, 6333, 5700, 2887]\n"
      ],
      "metadata": {
        "id": "uP0Fh4D2GWw6"
      }
    },
    {
      "cell_type": "code",
      "source": [],
      "metadata": {
        "id": "SjNonfSYC_Ns"
      },
      "execution_count": null,
      "outputs": []
    },
    {
      "cell_type": "code",
      "source": [
        "date = ['2021-09-14', '2021-12-15', '2021-09-08', '2021-12-05', '2021-10-09', '2021-09-30',\n",
        " '2021-12-22', '2021-11-29', '2021-12-24', '2021-11-26', '2021-10-27', '2021-12-18',\n",
        " '2021-11-09', '2021-11-23', '2021-09-27', '2021-10-02', '2021-12-27', '2021-09-20',\n",
        " '2021-12-13', '2021-11-01', '2021-11-09', '2021-12-06', '2021-12-08', '2021-10-09',\n",
        " '2021-10-31', '2021-09-30', '2021-11-09', '2021-12-13', '2021-10-26', '2021-12-09']\n",
        "\n",
        "buy = [1270, 8413, 9028, 3703, 5739, 4095,\n",
        "  295, 4944, 5723, 3701, 4471, 651,\n",
        "  7037, 4274, 6275, 4988, 6930, 2971,\n",
        "  6592, 2004, 2822, 519, 3406, 2732,\n",
        "  5015, 2008, 316, 6333, 5700, 2887]"
      ],
      "metadata": {
        "id": "NPusVUaKGexm"
      },
      "execution_count": 6,
      "outputs": []
    },
    {
      "cell_type": "markdown",
      "source": [
        "# 4.1 Найдите, какая выручка у компании в ноябре\n",
        "Используйте list comprehensions\n"
      ],
      "metadata": {
        "id": "m5ym8KRiGfK0"
      }
    },
    {
      "cell_type": "code",
      "source": [
        "def get_dict(date: list, buy: list) -> dict:\n",
        "  return {date[i]: values[i] for i in range(len(values))}\n",
        "\n",
        "get_dict(buy, values)"
      ],
      "metadata": {
        "colab": {
          "base_uri": "https://localhost:8080/",
          "height": 204
        },
        "id": "rhgRL37KGmF2",
        "outputId": "978caffa-29e9-46db-fc41-af1a0e81062f"
      },
      "execution_count": 7,
      "outputs": [
        {
          "output_type": "error",
          "ename": "NameError",
          "evalue": "ignored",
          "traceback": [
            "\u001b[0;31m---------------------------------------------------------------------------\u001b[0m",
            "\u001b[0;31mNameError\u001b[0m                                 Traceback (most recent call last)",
            "\u001b[0;32m<ipython-input-7-cf966f3b07c7>\u001b[0m in \u001b[0;36m<cell line: 4>\u001b[0;34m()\u001b[0m\n\u001b[1;32m      2\u001b[0m   \u001b[0;32mreturn\u001b[0m \u001b[0;34m{\u001b[0m\u001b[0mdate\u001b[0m\u001b[0;34m[\u001b[0m\u001b[0mi\u001b[0m\u001b[0;34m]\u001b[0m\u001b[0;34m:\u001b[0m \u001b[0mvalues\u001b[0m\u001b[0;34m[\u001b[0m\u001b[0mi\u001b[0m\u001b[0;34m]\u001b[0m \u001b[0;32mfor\u001b[0m \u001b[0mi\u001b[0m \u001b[0;32min\u001b[0m \u001b[0mrange\u001b[0m\u001b[0;34m(\u001b[0m\u001b[0mlen\u001b[0m\u001b[0;34m(\u001b[0m\u001b[0mvalues\u001b[0m\u001b[0;34m)\u001b[0m\u001b[0;34m)\u001b[0m\u001b[0;34m}\u001b[0m\u001b[0;34m\u001b[0m\u001b[0;34m\u001b[0m\u001b[0m\n\u001b[1;32m      3\u001b[0m \u001b[0;34m\u001b[0m\u001b[0m\n\u001b[0;32m----> 4\u001b[0;31m \u001b[0mget_dict\u001b[0m\u001b[0;34m(\u001b[0m\u001b[0mbuy\u001b[0m\u001b[0;34m,\u001b[0m \u001b[0mvalues\u001b[0m\u001b[0;34m)\u001b[0m\u001b[0;34m\u001b[0m\u001b[0;34m\u001b[0m\u001b[0m\n\u001b[0m",
            "\u001b[0;31mNameError\u001b[0m: name 'values' is not defined"
          ]
        }
      ]
    },
    {
      "cell_type": "markdown",
      "source": [
        "# 4.2 Найдите выручку компании в зависимости от месяца\n",
        "Для этого напишите функцию, которая на вход принимает список с датами и список с выручкой, а на выходе словарь, где ключи - это месяцы, а значения - это выручка.\n",
        "Используйте аннотирование типов."
      ],
      "metadata": {
        "id": "ewGbK5GMGmWY"
      }
    },
    {
      "cell_type": "code",
      "source": [],
      "metadata": {
        "id": "knrRUrgsKlGk"
      },
      "execution_count": null,
      "outputs": []
    }
  ]
}